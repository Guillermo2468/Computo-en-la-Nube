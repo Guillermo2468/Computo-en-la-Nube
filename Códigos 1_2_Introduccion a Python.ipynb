{
  "nbformat": 4,
  "nbformat_minor": 0,
  "metadata": {
    "colab": {
      "provenance": [],
      "authorship_tag": "ABX9TyPAEXKoBNZ/OW/o9vxVs22g",
      "include_colab_link": true
    },
    "kernelspec": {
      "name": "python3",
      "display_name": "Python 3"
    },
    "language_info": {
      "name": "python"
    }
  },
  "cells": [
    {
      "cell_type": "markdown",
      "metadata": {
        "id": "view-in-github",
        "colab_type": "text"
      },
      "source": [
        "<a href=\"https://colab.research.google.com/github/Guillermo2468/Computo-en-la-Nube/blob/main/C%C3%B3digos%201_2_Introduccion%20a%20Python.ipynb\" target=\"_parent\"><img src=\"https://colab.research.google.com/assets/colab-badge.svg\" alt=\"Open In Colab\"/></a>"
      ]
    },
    {
      "cell_type": "code",
      "execution_count": 3,
      "metadata": {
        "colab": {
          "base_uri": "https://localhost:8080/"
        },
        "id": "9qLGlK-34XJ4",
        "outputId": "e8a0e61e-12d2-4101-8cfd-fe980414fdbb"
      },
      "outputs": [
        {
          "output_type": "stream",
          "name": "stdout",
          "text": [
            "5 printing from the global scope\n",
            "13 printing from the local scope\n"
          ]
        }
      ],
      "source": [
        "def enclosing_func():\n",
        "  m = 13\n",
        "  def local():\n",
        "    print(m, 'printing from the local scope')\n",
        "  local()\n",
        "m = 5\n",
        "\n",
        "print(m, 'printing from the global scope')\n",
        "enclosing_func()"
      ]
    },
    {
      "cell_type": "code",
      "source": [
        "class Bike:\n",
        "  def __init__(self, colour, frame_material):\n",
        "    self.colour = colour\n",
        "    self.frame_material = frame_material\n",
        "\n",
        "  def brake(self):\n",
        "    print(\"Braking!\")\n",
        "\n",
        "red_bike = Bike('red', 'carbon fiber')\n",
        "blue_bike = Bike('Blue', 'steel')\n",
        "\n",
        "print(red_bike.colour)\n",
        "print(red_bike.frame_material)\n",
        "print(blue_bike.colour)\n",
        "print(blue_bike.frame_material)\n",
        "\n",
        "red_bike.brake()"
      ],
      "metadata": {
        "colab": {
          "base_uri": "https://localhost:8080/"
        },
        "id": "6beBztzZ5TJj",
        "outputId": "97a2bd0f-ea93-4350-9aa0-ce3527df4b10"
      },
      "execution_count": 5,
      "outputs": [
        {
          "output_type": "stream",
          "name": "stdout",
          "text": [
            "red\n",
            "carbon fiber\n",
            "Blue\n",
            "steel\n",
            "Braking!\n"
          ]
        }
      ]
    },
    {
      "cell_type": "code",
      "source": [
        "s = 'Hello There'\n",
        "s.removeprefix('Hell')\n",
        "\n",
        "a = \"The trouble is you think you have time.\"\n",
        "a[0]\n",
        "a[:]\n",
        "\n",
        "greet_old = 'Hello %s!'\n",
        "greet_old % 'Fabrizio'\n",
        "'Hello Fabrizio!'\n",
        "\n",
        "keyword = 'Hello, my name is {name} {last_name}'\n",
        "keyword.format(name='Fabrizio', last_name='Romano')\n"
      ],
      "metadata": {
        "colab": {
          "base_uri": "https://localhost:8080/",
          "height": 36
        },
        "id": "PrLPxwus6zM0",
        "outputId": "cb6eebad-6754-44a8-b9d0-a746b43b9ec7"
      },
      "execution_count": 12,
      "outputs": [
        {
          "output_type": "execute_result",
          "data": {
            "text/plain": [
              "'Hello, my name is Fabrizio Romano'"
            ],
            "application/vnd.google.colaboratory.intrinsic+json": {
              "type": "string"
            }
          },
          "metadata": {},
          "execution_count": 12
        }
      ]
    },
    {
      "cell_type": "code",
      "source": [
        "a = [1, 2, 1, 3]\n",
        "a.append(13)\n",
        "print(a)\n",
        "a.count(1)\n",
        "a.extend([5, 7])\n",
        "print(a)\n",
        "a.index(13)\n",
        "a.insert(0, 17)\n",
        "print(a)\n",
        "a.pop()\n",
        "a.pop(3)\n",
        "a.remove(17)\n",
        "print(a)\n",
        "a.reverse()\n",
        "print(a)\n",
        "a.sort()\n",
        "print(a)\n",
        "a.clear()\n",
        "print(a)\n",
        "\n",
        "\n"
      ],
      "metadata": {
        "colab": {
          "base_uri": "https://localhost:8080/"
        },
        "id": "94qavBfm-fPi",
        "outputId": "4b356a2d-3ae2-469e-d857-67308d6e8de2"
      },
      "execution_count": 29,
      "outputs": [
        {
          "output_type": "stream",
          "name": "stdout",
          "text": [
            "[1, 2, 1, 3, 13]\n",
            "[1, 2, 1, 3, 13, 5, 7]\n",
            "[17, 1, 2, 1, 3, 13, 5, 7]\n",
            "[1, 2, 3, 13, 5]\n",
            "[5, 13, 3, 2, 1]\n",
            "[1, 2, 3, 5, 13]\n",
            "[]\n"
          ]
        }
      ]
    },
    {
      "cell_type": "code",
      "source": [
        "income = 15000\n",
        "if income < 10000:\n",
        "   tax_coefficient = 0.0 #1\n",
        "elif income < 30000:\n",
        "   tax_coefficient = 0.2 #2\n",
        "elif income < 100000:\n",
        "   tax_coefficient = 0.35 #3\n",
        "else:\n",
        "   tax_coefficient = 0.45 #4\n",
        "print(f'You will pay: ${income * tax_coefficient} in taxes')"
      ],
      "metadata": {
        "colab": {
          "base_uri": "https://localhost:8080/"
        },
        "id": "JXJduw4nCatP",
        "outputId": "15baea0e-421f-4b16-9f47-287d9d584491"
      },
      "execution_count": 32,
      "outputs": [
        {
          "output_type": "stream",
          "name": "stdout",
          "text": [
            "You will pay: $3000.0 in taxes\n"
          ]
        }
      ]
    },
    {
      "cell_type": "code",
      "source": [
        "alert_system = 'console'\n",
        "error_severity = 'critical'\n",
        "error_message = 'OMG! Something terrible happened!'\n",
        "\n",
        "if alert_system == 'console':\n",
        " print(error_message) #1\n",
        "elif alert_system == 'email':\n",
        " if error_severity == 'critical':\n",
        "  send_email('admin@example.com', error_message) #2\n",
        " elif error_severity == 'medium':\n",
        "  send_email('support.1@example.com', error_message) #3\n",
        " else:\n",
        "  send_email('support.2@example.com', error_message) #4"
      ],
      "metadata": {
        "colab": {
          "base_uri": "https://localhost:8080/"
        },
        "id": "PeQzRNfuDwN3",
        "outputId": "e81b33b0-f813-4852-baab-a7aee1ff7f55"
      },
      "execution_count": 33,
      "outputs": [
        {
          "output_type": "stream",
          "name": "stdout",
          "text": [
            "OMG! Something terrible happened!\n"
          ]
        }
      ]
    },
    {
      "cell_type": "code",
      "source": [
        "people = ['Nick', 'Rick', 'Roger', 'Syd']\n",
        "ages = [23, 24, 23, 21]\n",
        "for position in range(len(people)):\n",
        " person = people[position]\n",
        " age = ages[position]\n",
        " print(person, age, '\\n')\n",
        "\n",
        "people = ['Nick', 'Rick', 'Roger', 'Syd']\n",
        "ages = [23, 24, 23, 21]\n",
        "instruments = ['Drums', 'Keyboards', 'Bass', 'Guitar']\n",
        "for person, age, instrument in zip(people, ages, instruments):\n",
        " print(person, age, instrument)"
      ],
      "metadata": {
        "colab": {
          "base_uri": "https://localhost:8080/"
        },
        "id": "HSV-Z5YgFqeA",
        "outputId": "fd9b757e-386c-4601-8506-8f278b847864"
      },
      "execution_count": 37,
      "outputs": [
        {
          "output_type": "stream",
          "name": "stdout",
          "text": [
            "Nick 23 \n",
            "\n",
            "Rick 24 \n",
            "\n",
            "Roger 23 \n",
            "\n",
            "Syd 21 \n",
            "\n",
            "Nick 23 Drums\n",
            "Rick 24 Keyboards\n",
            "Roger 23 Bass\n",
            "Syd 21 Guitar\n"
          ]
        }
      ]
    },
    {
      "cell_type": "code",
      "source": [
        "people = ['Nick', 'Rick', 'Roger', 'Syd']\n",
        "ages = [23, 24, 23, 21]\n",
        "for position in range(len(people)):\n",
        " person = people[position]\n",
        " age = ages[position]\n",
        " print(person, age, '\\n')\n",
        "\n",
        "people = ['Nick', 'Rick', 'Roger', 'Syd']\n",
        "ages = [23, 24, 23, 21]\n",
        "instruments = ['Drums', 'Keyboards', 'Bass', 'Guitar']\n",
        "for person, age, instrument in zip(people, ages, instruments):\n",
        " print(person, age, instrument)"
      ],
      "metadata": {
        "colab": {
          "base_uri": "https://localhost:8080/"
        },
        "outputId": "fd9b757e-386c-4601-8506-8f278b847864",
        "id": "sZjrUpf8GnS5"
      },
      "execution_count": null,
      "outputs": [
        {
          "output_type": "stream",
          "name": "stdout",
          "text": [
            "Nick 23 \n",
            "\n",
            "Rick 24 \n",
            "\n",
            "Roger 23 \n",
            "\n",
            "Syd 21 \n",
            "\n",
            "Nick 23 Drums\n",
            "Rick 24 Keyboards\n",
            "Roger 23 Bass\n",
            "Syd 21 Guitar\n"
          ]
        }
      ]
    },
    {
      "cell_type": "code",
      "source": [
        "people = ['Nick', 'Rick', 'Roger', 'Syd']\n",
        "ages = [23, 24, 23, 21]\n",
        "for position in range(len(people)):\n",
        " person = people[position]\n",
        " age = ages[position]\n",
        " print(person, age)\n",
        "\n",
        "people = ['Nick', 'Rick', 'Roger', 'Syd']\n",
        "ages = [23, 24, 23, 21]\n",
        "instruments = ['Drums', 'Keyboards', 'Bass', 'Guitar']\n",
        "for person, age, instrument in zip(people, ages, instruments):\n",
        " print('\\n')\n",
        " print(person, age, instrument)"
      ],
      "metadata": {
        "colab": {
          "base_uri": "https://localhost:8080/"
        },
        "outputId": "121cbd03-482b-4fe2-b515-72d8b1068cac",
        "id": "R2s0rqgXGofD"
      },
      "execution_count": 40,
      "outputs": [
        {
          "output_type": "stream",
          "name": "stdout",
          "text": [
            "Nick 23\n",
            "Rick 24\n",
            "Roger 23\n",
            "Syd 21\n",
            "\n",
            "\n",
            "Nick 23 Drums\n",
            "\n",
            "\n",
            "Rick 24 Keyboards\n",
            "\n",
            "\n",
            "Roger 23 Bass\n",
            "\n",
            "\n",
            "Syd 21 Guitar\n"
          ]
        }
      ]
    },
    {
      "cell_type": "code",
      "source": [
        "def minimum(*n):\n",
        " # print(type(n)) # n is a tuple\n",
        " if n: # explained after the code\n",
        "  mn = n[0]\n",
        "  for value in n[1:]:\n",
        "   if value < mn:\n",
        "    mn = value\n",
        "   print(mn)\n",
        "minimum(1, 3, -7, 9)\n",
        "minimum()"
      ],
      "metadata": {
        "colab": {
          "base_uri": "https://localhost:8080/"
        },
        "id": "WTGFVX3uHCw0",
        "outputId": "fd812da5-8e15-432a-f654-ca8feee42207"
      },
      "execution_count": 45,
      "outputs": [
        {
          "output_type": "stream",
          "name": "stdout",
          "text": [
            "1\n",
            "-7\n",
            "-7\n"
          ]
        }
      ]
    }
  ]
}