{
  "nbformat": 4,
  "nbformat_minor": 0,
  "metadata": {
    "colab": {
      "provenance": [],
      "authorship_tag": "ABX9TyNkLkypj3ith9Rz/69PLrso",
      "include_colab_link": true
    },
    "kernelspec": {
      "name": "python3",
      "display_name": "Python 3"
    },
    "language_info": {
      "name": "python"
    }
  },
  "cells": [
    {
      "cell_type": "markdown",
      "metadata": {
        "id": "view-in-github",
        "colab_type": "text"
      },
      "source": [
        "<a href=\"https://colab.research.google.com/github/Guillermo2468/Computo-en-la-Nube/blob/main/1.2%20Comando%20en%20R.ipynb\" target=\"_parent\"><img src=\"https://colab.research.google.com/assets/colab-badge.svg\" alt=\"Open In Colab\"/></a>"
      ]
    },
    {
      "cell_type": "code",
      "execution_count": 13,
      "metadata": {
        "id": "w38wv8gAogcd",
        "colab": {
          "base_uri": "https://localhost:8080/"
        },
        "outputId": "7405627a-4fce-4b79-f755-7188a7ed299f"
      },
      "outputs": [
        {
          "output_type": "stream",
          "name": "stdout",
          "text": [
            "The rpy2.ipython extension is already loaded. To reload it, use:\n",
            "  %reload_ext rpy2.ipython\n"
          ]
        }
      ],
      "source": [
        "%load_ext rpy2.ipython"
      ]
    },
    {
      "cell_type": "code",
      "source": [
        "%%R\n",
        "# this is my first R script\n",
        "print(3 + 4)"
      ],
      "metadata": {
        "colab": {
          "base_uri": "https://localhost:8080/"
        },
        "id": "0QYoSe7qo2km",
        "outputId": "5becc48c-12ba-4569-d17a-634ddf9bb94c"
      },
      "execution_count": 14,
      "outputs": [
        {
          "output_type": "stream",
          "name": "stdout",
          "text": [
            "[1] 7\n"
          ]
        }
      ]
    },
    {
      "cell_type": "code",
      "source": [
        "%%R\n",
        "a <- 2 # height\n",
        "b <- 4 # length\n",
        "C <-\n",
        "a *\n",
        "b\n",
        "C -> variable\n",
        "print(\n",
        "\"area: \", variable\n",
        ")"
      ],
      "metadata": {
        "colab": {
          "base_uri": "https://localhost:8080/"
        },
        "id": "ECaPKn8Rr8qL",
        "outputId": "784f705d-7146-4cb6-ae08-6606d4ea632c"
      },
      "execution_count": 15,
      "outputs": [
        {
          "output_type": "stream",
          "name": "stdout",
          "text": [
            "[1] \"area: \"\n"
          ]
        }
      ]
    },
    {
      "cell_type": "code",
      "source": [
        "%%R\n",
        "print(\"A\")\n",
        "{\n",
        "print(\"B\")\n",
        "print(\"C\")\n",
        "}\n"
      ],
      "metadata": {
        "colab": {
          "base_uri": "https://localhost:8080/"
        },
        "id": "7Dhqf4-0qvqW",
        "outputId": "4e1d4769-d543-4f33-9a09-e7a8d5f0cc40"
      },
      "execution_count": 16,
      "outputs": [
        {
          "output_type": "stream",
          "name": "stdout",
          "text": [
            "[1] \"A\"\n",
            "[1] \"B\"\n",
            "[1] \"C\"\n"
          ]
        }
      ]
    },
    {
      "cell_type": "code",
      "source": [
        "%%R\n",
        "flag <- TRUE\n",
        "if (flag) print(\"Hello!\")"
      ],
      "metadata": {
        "colab": {
          "base_uri": "https://localhost:8080/"
        },
        "id": "GUssXSaGrUmU",
        "outputId": "bebccba3-3423-4456-d287-3ec783416806"
      },
      "execution_count": 17,
      "outputs": [
        {
          "output_type": "stream",
          "name": "stdout",
          "text": [
            "[1] \"Hello!\"\n"
          ]
        }
      ]
    },
    {
      "cell_type": "code",
      "source": [
        "%%R\n",
        "if (TRUE) print(\"Hello!\")"
      ],
      "metadata": {
        "colab": {
          "base_uri": "https://localhost:8080/"
        },
        "id": "3yHy3293sQO8",
        "outputId": "26494ee5-3d81-47fd-cb25-800836929d31"
      },
      "execution_count": 18,
      "outputs": [
        {
          "output_type": "stream",
          "name": "stdout",
          "text": [
            "[1] \"Hello!\"\n"
          ]
        }
      ]
    },
    {
      "cell_type": "code",
      "source": [
        "%%R\n",
        "printing <- TRUE\n",
        "if (printing) {\n",
        "print(\"A\")\n",
        "print(\"B\")\n",
        "}"
      ],
      "metadata": {
        "colab": {
          "base_uri": "https://localhost:8080/"
        },
        "id": "48itprBNsT-Y",
        "outputId": "1c5f213d-9f27-445f-b274-140b1f49f20b"
      },
      "execution_count": 19,
      "outputs": [
        {
          "output_type": "stream",
          "name": "stdout",
          "text": [
            "[1] \"A\"\n",
            "[1] \"B\"\n"
          ]
        }
      ]
    },
    {
      "cell_type": "code",
      "source": [
        "%%R\n",
        "a <- 10.0\n",
        "if (a < 0.0) print(\"'a' is negative\") else print(\"'a' is not negative\")\n",
        "print(\"This is always printed\")\n"
      ],
      "metadata": {
        "colab": {
          "base_uri": "https://localhost:8080/"
        },
        "id": "8HePhdNFsioJ",
        "outputId": "26fd1073-ec7d-40e6-e8f9-7d6590031f75"
      },
      "execution_count": 20,
      "outputs": [
        {
          "output_type": "stream",
          "name": "stdout",
          "text": [
            "[1] \"'a' is not negative\"\n",
            "[1] \"This is always printed\"\n"
          ]
        }
      ]
    },
    {
      "cell_type": "code",
      "source": [
        "%%R\n",
        "a <- 1\n",
        "if (a < 0.0) {\n",
        "print(\"'a' is negative\")\n",
        "} else {\n",
        "print(\"'a' is not negative\")\n",
        "}"
      ],
      "metadata": {
        "colab": {
          "base_uri": "https://localhost:8080/"
        },
        "id": "54WjLxvEsly3",
        "outputId": "a739fcae-b019-4235-fae3-82f7ef966d0f"
      },
      "execution_count": 21,
      "outputs": [
        {
          "output_type": "stream",
          "name": "stdout",
          "text": [
            "[1] \"'a' is not negative\"\n"
          ]
        }
      ]
    },
    {
      "cell_type": "code",
      "source": [
        "%%R\n",
        "a <- 1\n",
        "my.message <-\n",
        "if (a < 0.0) \"'a' is negative\" else \"'a' is not negative\"\n",
        "print(my.message)"
      ],
      "metadata": {
        "colab": {
          "base_uri": "https://localhost:8080/"
        },
        "id": "rzbF97q9swfK",
        "outputId": "1f6b4001-1ae1-465a-d93e-fc64c54632b1"
      },
      "execution_count": 22,
      "outputs": [
        {
          "output_type": "stream",
          "name": "stdout",
          "text": [
            "[1] \"'a' is not negative\"\n"
          ]
        }
      ]
    },
    {
      "cell_type": "code",
      "source": [
        "%%R\n",
        "if (0) print(\"hello\")\n",
        "if (-1) print(\"hello\")\n",
        "if (0.01) print(\"hello\")\n",
        "if (1e-300) print(\"hello\")\n",
        "if (1e-323) print(\"hello\")\n",
        "if (1e-324) print(\"hello\")\n",
        "if (1e-500) print(\"hello\")\n",
        "if (as.logical(\"true\")) print(\"hello\")\n",
        "if (as.logical(as.numeric(\"1\"))) print(\"hello\")\n",
        "if (as.logical(\"1\")) print(\"hello\")\n",
        "if (\"1\") print(\"hello\")"
      ],
      "metadata": {
        "colab": {
          "base_uri": "https://localhost:8080/"
        },
        "id": "3HW1k2ADtsuT",
        "outputId": "fff59abf-4ee5-49fc-841a-a8bceecbb08a"
      },
      "execution_count": 23,
      "outputs": [
        {
          "output_type": "stream",
          "name": "stdout",
          "text": [
            "[1] \"hello\"\n",
            "[1] \"hello\"\n",
            "[1] \"hello\"\n",
            "[1] \"hello\"\n",
            "[1] \"hello\"\n",
            "[1] \"hello\"\n"
          ]
        },
        {
          "output_type": "stream",
          "name": "stderr",
          "text": [
            "WARNING:rpy2.rinterface_lib.callbacks:R[write to console]: Error in if (as.logical(\"1\")) print(\"hello\") : \n",
            "  missing value where TRUE/FALSE needed\n",
            "\n"
          ]
        },
        {
          "output_type": "stream",
          "name": "stdout",
          "text": [
            "\n",
            "Error in if (as.logical(\"1\")) print(\"hello\") : \n",
            "  missing value where TRUE/FALSE needed\n"
          ]
        }
      ]
    },
    {
      "cell_type": "code",
      "source": [
        "%%R\n",
        "a <- 1:10\n",
        "ifelse(a > 5, 1, -1)\n",
        "ifelse(a > 5, a + 1, a - 1)\n",
        "ifelse(any(a > 5), a + 1, a - 1) # tricky\n",
        "ifelse(logical(0), a + 1, a - 1) # even more tricky\n",
        "ifelse(NA, a + 1, a - 1) # as expected"
      ],
      "metadata": {
        "colab": {
          "base_uri": "https://localhost:8080/"
        },
        "id": "uOzCUtI1t5Mn",
        "outputId": "5857fcd9-6d57-4441-9fe3-061768acde00"
      },
      "execution_count": 24,
      "outputs": [
        {
          "output_type": "stream",
          "name": "stdout",
          "text": [
            "[1] NA\n"
          ]
        }
      ]
    },
    {
      "cell_type": "code",
      "source": [
        "%%R\n",
        "ifelse(TRUE, 1:5, -5:-1)\n",
        "ifelse(FALSE, 1:5, -5:-1)\n",
        "ifelse(c(TRUE, FALSE), 1:5, -5:-1)\n",
        "ifelse(c(FALSE, TRUE), 1:5, -5:-1)\n",
        "ifelse(c(FALSE, TRUE), 1:5, 0)"
      ],
      "metadata": {
        "colab": {
          "base_uri": "https://localhost:8080/"
        },
        "id": "l6TQtLVtt_US",
        "outputId": "7884a811-c9b1-4d75-e670-9c0b4e5837ca"
      },
      "execution_count": 25,
      "outputs": [
        {
          "output_type": "stream",
          "name": "stdout",
          "text": [
            "[1] 0 2\n"
          ]
        }
      ]
    },
    {
      "cell_type": "code",
      "source": [
        "%%R\n",
        "a <- -10:-1\n",
        "b <- +1:10\n",
        "c <- c(rep(\"a\", 5), rep(\"b\", 5))"
      ],
      "metadata": {
        "id": "rO-vtu2quDij"
      },
      "execution_count": 26,
      "outputs": []
    },
    {
      "cell_type": "code",
      "source": [
        "%%R\n",
        "a <- c(1, 4, 3, 6, 8)\n",
        "for(x in a) {print(x*2)} # print is needed!"
      ],
      "metadata": {
        "colab": {
          "base_uri": "https://localhost:8080/"
        },
        "id": "-Bt_BKPVzXgY",
        "outputId": "c7432b04-8ff3-4e83-b533-26eef37e8def"
      },
      "execution_count": 27,
      "outputs": [
        {
          "output_type": "stream",
          "name": "stdout",
          "text": [
            "[1] 2\n",
            "[1] 8\n",
            "[1] 6\n",
            "[1] 12\n",
            "[1] 16\n"
          ]
        }
      ]
    },
    {
      "cell_type": "code",
      "source": [
        "%%R\n",
        "b <- for(x in a) {x*2}\n",
        "b\n",
        "\n",
        "b <- numeric()\n",
        "for(i in seq(along.with = a)) {\n",
        "b[i] <- a[i]^2\n",
        "print(b)\n",
        "}\n",
        "\n",
        "b\n",
        "\n",
        "b <- numeric(length(a))\n",
        "for(i in seq(along.with = a)) {\n",
        "b[i] <- a[i]^2\n",
        "print(b)\n",
        "}\n",
        "\n",
        "b\n",
        "\n",
        "b <- a^2\n",
        "b\n"
      ],
      "metadata": {
        "colab": {
          "base_uri": "https://localhost:8080/"
        },
        "id": "-ypXt44Rzaw1",
        "outputId": "c7526abd-889d-4b35-b665-af99ad61673a"
      },
      "execution_count": 28,
      "outputs": [
        {
          "output_type": "stream",
          "name": "stdout",
          "text": [
            "[1] 1\n",
            "[1]  1 16\n",
            "[1]  1 16  9\n",
            "[1]  1 16  9 36\n",
            "[1]  1 16  9 36 64\n",
            "[1] 1 0 0 0 0\n",
            "[1]  1 16  0  0  0\n",
            "[1]  1 16  9  0  0\n",
            "[1]  1 16  9 36  0\n",
            "[1]  1 16  9 36 64\n",
            "[1]  1 16  9 36 64\n"
          ]
        }
      ]
    },
    {
      "cell_type": "code",
      "source": [
        "%%R\n",
        "b <- numeric(length(a))\n",
        "for(i in seq(along.with = a)) {\n",
        "b[i] <- a[i]^2\n",
        "}\n",
        "print(b)\n",
        "c <- numeric(length(a))\n",
        "for(i in 1:length(a)) {\n",
        "c[i] <- a[i]^2\n",
        "}\n",
        "print(c)"
      ],
      "metadata": {
        "colab": {
          "base_uri": "https://localhost:8080/"
        },
        "id": "MzYqxPa2znB_",
        "outputId": "9266a3b1-75c2-401c-defb-a854ab7e87f5"
      },
      "execution_count": 29,
      "outputs": [
        {
          "output_type": "stream",
          "name": "stdout",
          "text": [
            "[1]  1 16  9 36 64\n",
            "[1]  1 16  9 36 64\n"
          ]
        }
      ]
    },
    {
      "cell_type": "code",
      "source": [
        "%%R\n",
        "a <- 2\n",
        "print(a)\n",
        "while (a < 50) {\n",
        "print(a <- a^2)\n",
        "}"
      ],
      "metadata": {
        "colab": {
          "base_uri": "https://localhost:8080/"
        },
        "id": "GzIFzVRvztO6",
        "outputId": "5d1c7fb0-4149-4727-c00e-b3bfccdd3875"
      },
      "execution_count": 30,
      "outputs": [
        {
          "output_type": "stream",
          "name": "stdout",
          "text": [
            "[1] 2\n",
            "[1] 4\n",
            "[1] 16\n",
            "[1] 256\n"
          ]
        }
      ]
    },
    {
      "cell_type": "code",
      "source": [
        "%%R\n",
        "system.time({a <- numeric()\n",
        "for (i in 1:1000000) {\n",
        "a[i] <- i / 1000\n",
        "}\n",
        "})"
      ],
      "metadata": {
        "colab": {
          "base_uri": "https://localhost:8080/"
        },
        "id": "ka75IaM2zxSL",
        "outputId": "d5313ec7-d99d-433d-ae5e-86ef908759ca"
      },
      "execution_count": 31,
      "outputs": [
        {
          "output_type": "stream",
          "name": "stdout",
          "text": [
            "   user  system elapsed \n",
            "  0.388   0.039   0.453 \n"
          ]
        }
      ]
    },
    {
      "cell_type": "code",
      "source": [
        "%%R\n",
        "set.seed(123456) # so that a.vector does not change\n",
        "a.vector <- runif(6) # A short vector as input to keep output short\n",
        "str(a.vector)"
      ],
      "metadata": {
        "id": "-vGssw1L0HXh",
        "colab": {
          "base_uri": "https://localhost:8080/"
        },
        "outputId": "5889f098-8272-48bd-edeb-b8082636f9f1"
      },
      "execution_count": 32,
      "outputs": [
        {
          "output_type": "stream",
          "name": "stdout",
          "text": [
            " num [1:6] 0.798 0.754 0.391 0.342 0.361 ...\n"
          ]
        }
      ]
    },
    {
      "cell_type": "code",
      "source": [
        "%%R\n",
        "z <- sapply(X = a.vector, FUN = function(x, k) {log(x) + k}, k = 5)\n",
        "str(z)"
      ],
      "metadata": {
        "colab": {
          "base_uri": "https://localhost:8080/"
        },
        "id": "UmJ4elOC1hfC",
        "outputId": "59082eea-f877-4044-947b-ec797f04c750"
      },
      "execution_count": 33,
      "outputs": [
        {
          "output_type": "stream",
          "name": "stdout",
          "text": [
            " num [1:6] 4.77 4.72 4.06 3.93 3.98 ...\n"
          ]
        }
      ]
    },
    {
      "cell_type": "code",
      "source": [
        "%%R\n",
        "set.seed(123456)\n",
        "a.list <- lapply(rep(4, 5), rnorm, mean = 10, sd = 1)\n",
        "str(a.list)"
      ],
      "metadata": {
        "colab": {
          "base_uri": "https://localhost:8080/"
        },
        "id": "BEKpd5PA1ncT",
        "outputId": "be4fb239-45fc-4798-adc0-e5b61436590b"
      },
      "execution_count": 34,
      "outputs": [
        {
          "output_type": "stream",
          "name": "stdout",
          "text": [
            "List of 5\n",
            " $ : num [1:4] 10.83 9.72 9.64 10.09\n",
            " $ : num [1:4] 12.3 10.8 11.3 12.5\n",
            " $ : num [1:4] 11.17 9.57 9 8.89\n",
            " $ : num [1:4] 9.94 11.17 11.05 10.06\n",
            " $ : num [1:4] 9.26 10.93 11.67 10.56\n"
          ]
        }
      ]
    },
    {
      "cell_type": "code",
      "source": [
        "%%R\n",
        "my.data <- data.frame(x = 1:10, y = 1:10 + rnorm(10, 1, 0.1))\n",
        "results <- list()\n",
        "models <- list(linear = y ~ x, linear.orig = y ~ x - 1, quadratic = y ~ x + I(x^2))\n",
        "for (m in names(models)) {\n",
        "results[[m]] <- lm(models[[m]], data = my.data)\n",
        "}\n",
        "str(results, max.level = 1)"
      ],
      "metadata": {
        "colab": {
          "base_uri": "https://localhost:8080/"
        },
        "id": "ilev06c11rZI",
        "outputId": "e060a69f-d00a-4c5f-feee-a11363434ec8"
      },
      "execution_count": 35,
      "outputs": [
        {
          "output_type": "stream",
          "name": "stdout",
          "text": [
            "List of 3\n",
            " $ linear     :List of 12\n",
            "  ..- attr(*, \"class\")= chr \"lm\"\n",
            " $ linear.orig:List of 12\n",
            "  ..- attr(*, \"class\")= chr \"lm\"\n",
            " $ quadratic  :List of 12\n",
            "  ..- attr(*, \"class\")= chr \"lm\"\n"
          ]
        }
      ]
    },
    {
      "cell_type": "code",
      "source": [
        "%%R\n",
        "x <- rnorm(10)\n",
        "results <- numeric()\n",
        "fun.names <- c(\"mean\", \"max\", \"min\")\n",
        "for (f.name in fun.names) {\n",
        "results[[f.name]] <- do.call(f.name, list(x))\n",
        "}\n",
        "results"
      ],
      "metadata": {
        "colab": {
          "base_uri": "https://localhost:8080/"
        },
        "id": "ZO2_ohcR112J",
        "outputId": "890f202c-1a74-4d1f-98b8-197ef92c2abf"
      },
      "execution_count": 36,
      "outputs": [
        {
          "output_type": "stream",
          "name": "stdout",
          "text": [
            "      mean        max        min \n",
            "-0.4069668  1.5600738 -2.7488684 \n"
          ]
        }
      ]
    }
  ]
}