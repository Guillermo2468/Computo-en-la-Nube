{
  "nbformat": 4,
  "nbformat_minor": 0,
  "metadata": {
    "colab": {
      "provenance": [],
      "authorship_tag": "ABX9TyNzgzYfUaxkP2hCzlCHLxpB",
      "include_colab_link": true
    },
    "kernelspec": {
      "name": "python3",
      "display_name": "Python 3"
    },
    "language_info": {
      "name": "python"
    }
  },
  "cells": [
    {
      "cell_type": "markdown",
      "metadata": {
        "id": "view-in-github",
        "colab_type": "text"
      },
      "source": [
        "<a href=\"https://colab.research.google.com/github/Guillermo2468/Computo-en-la-Nube/blob/main/Codigos_archivo_1_3.ipynb\" target=\"_parent\"><img src=\"https://colab.research.google.com/assets/colab-badge.svg\" alt=\"Open In Colab\"/></a>"
      ]
    },
    {
      "cell_type": "code",
      "source": [
        "# files/tmp.py\n",
        "from tempfile import NamedTemporaryFile, TemporaryDirectory\n",
        "with TemporaryDirectory(dir='.') as td:\n",
        " print('Temp directory:', td)\n",
        " with NamedTemporaryFile(dir=td) as t:\n",
        "  name = t.name\n",
        "  print(name)"
      ],
      "metadata": {
        "id": "Qoy2i8RVq_fI"
      },
      "execution_count": null,
      "outputs": []
    },
    {
      "cell_type": "code",
      "source": [
        "# files/listing.py\n",
        "from pathlib import Path\n",
        "p = Path('.')\n",
        "for entry in p.glob('*'):\n",
        " print('File:' if entry.is_file() else 'Folder:', entry)"
      ],
      "metadata": {
        "id": "XCCAAwiarbsj"
      },
      "execution_count": null,
      "outputs": []
    },
    {
      "cell_type": "code",
      "source": [
        "# json_examples/json_basic.py\n",
        "import sys\n",
        "import json\n",
        "data = {\n",
        "'big_number': 2 ** 3141,\n",
        "'max_float': sys.float_info.max,\n",
        "'a_list': [2, 3, 5, 7],\n",
        "}\n",
        "json_data = json.dumps(data)\n",
        "data_out = json.loads(json_data)\n",
        "assert data == data_out # json and back, data matches"
      ],
      "metadata": {
        "id": "hXQuHbMYr4fg"
      },
      "execution_count": 7,
      "outputs": []
    },
    {
      "cell_type": "code",
      "source": [
        "# json_examples/json_tuple.py\n",
        "import json\n",
        "data_in = {\n",
        "\n",
        " 'a_tuple': (1, 2, 3, 4, 5),\n",
        "}\n",
        "\n",
        "json_data = json.dumps(data_in)\n",
        "print(json_data)\n",
        "data_out = json.loads(json_data)\n",
        "print(data_out)"
      ],
      "metadata": {
        "id": "FCUS9sI4sN1N"
      },
      "execution_count": null,
      "outputs": []
    },
    {
      "cell_type": "code",
      "source": [
        "import io\n",
        "stream = io.StringIO()\n",
        "stream.write('Learning Python Programming.\\n')\n",
        "print('Become a Python ninja!', file=stream)\n",
        "contents = stream.getvalue()\n",
        "print(contents)"
      ],
      "metadata": {
        "id": "zawGbgnGs9SA"
      },
      "execution_count": null,
      "outputs": []
    },
    {
      "cell_type": "code",
      "source": [
        "import requests\n",
        "urls = {\n",
        " \"get\": \"https://httpbin.org/get?t=learn+python+programming\",\n",
        " \"headers\": \"https://httpbin.org/headers\",\n",
        " \"ip\": \"https://httpbin.org/ip\",\n",
        " \"user-agent\": \"https://httpbin.org/user-agent\",\n",
        " \"UUID\": \"https://httpbin.org/uuid\",\n",
        " \"JSON\": \"https://httpbin.org/json\",\n",
        "}\n",
        "\n",
        "def get_content(title, url):\n",
        " resp = requests.get(url)\n",
        " print(f\"Response for {title}\")\n",
        " print(resp.json())\n",
        "\n",
        "for title, url in urls.items():\n",
        " get_content(title, url)\n",
        " print(\"-\" * 40)"
      ],
      "metadata": {
        "id": "dFg5TaHUtCdV"
      },
      "execution_count": null,
      "outputs": []
    },
    {
      "cell_type": "code",
      "source": [
        "import requests\n",
        "url = 'https://httpbin.org/post'\n",
        "data = dict(title='Learn Python Programming')\n",
        "resp = requests.post(url, data=data)\n",
        "print('Response for POST')\n",
        "print(resp.json())"
      ],
      "metadata": {
        "id": "8exgmXM6tPaO"
      },
      "execution_count": null,
      "outputs": []
    },
    {
      "cell_type": "code",
      "source": [
        "import shelve\n",
        "class Person:\n",
        " def __init__(self, name, id):\n",
        "  self.name = name\n",
        "  self.id = id\n",
        "\n",
        "with shelve.open('shelf1.shelve') as db:\n",
        " db['obi1'] = Person('Obi-Wan', 123)\n",
        " db['ani'] = Person('Anakin', 456)\n",
        " db['a_list'] = [2, 3, 5]\n",
        " db['delete_me'] = 'we will have to delete this one...'\n",
        " print(list(db.keys()))\n",
        "\n",
        " del db['delete_me']\n",
        " print(list(db.keys()))\n",
        " print('delete_me' in db)\n",
        " print('ani' in db)\n",
        " a_list = db['a_list']\n",
        " a_list.append(7)\n",
        " db['a_list'] = a_list\n",
        " print(db['a_list'])"
      ],
      "metadata": {
        "id": "XW7vhQXstVzT"
      },
      "execution_count": null,
      "outputs": []
    },
    {
      "cell_type": "code",
      "source": [
        "import json\n",
        "\n",
        "class ComplexEncoder(json.JSONEncoder):\n",
        " def default(self, obj):\n",
        "\n",
        "  print(f\"ComplexEncoder.default: {obj=}\")\n",
        "  if isinstance(obj, complex):\n",
        "   return {\n",
        "    '_meta': '_complex',\n",
        "    'num': [obj.real, obj.imag],\n",
        "   }\n",
        "  return super().default(obj)\n",
        "\n",
        "data = {\n",
        " 'an_int': 42,\n",
        " 'a_float': 3.14159265,\n",
        " 'a_complex': 3 + 4j,\n",
        "}\n",
        "\n",
        "json_data = json.dumps(data, cls=ComplexEncoder)\n",
        "print(json_data)\n",
        "\n",
        "def object_hook(obj):\n",
        " print(f\"object_hook: {obj=}\")\n",
        " try:\n",
        "  if obj['_meta'] == '_complex':\n",
        "   return complex(*obj['num'])\n",
        " except KeyError:\n",
        "  return obj\n",
        "\n",
        "data_out = json.loads(json_data, object_hook=object_hook)\n",
        "print(data_out)"
      ],
      "metadata": {
        "id": "jsUiwQRXsZIw"
      },
      "execution_count": null,
      "outputs": []
    },
    {
      "cell_type": "code",
      "source": [
        "# files/walking.py\n",
        "import os\n",
        "for root, dirs, files in os.walk('.'):\n",
        " abs_root = os.path.abspath(root)\n",
        " print(abs_root)\n",
        " if dirs:\n",
        "  print('Directories:')\n",
        "  for dir_ in dirs:\n",
        "   print(dir_)\n",
        "  print()\n",
        "if files:\n",
        " print('Files:')\n",
        " for filename in files:\n",
        "  print(filename)\n",
        " print()"
      ],
      "metadata": {
        "id": "ACpJxWL9rf_N"
      },
      "execution_count": null,
      "outputs": []
    }
  ]
}